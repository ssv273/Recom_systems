{
  "nbformat": 4,
  "nbformat_minor": 0,
  "metadata": {
    "colab": {
      "name": "Untitled",
      "provenance": [],
      "collapsed_sections": []
    },
    "kernelspec": {
      "name": "python3",
      "display_name": "Python 3"
    },
    "widgets": {
      "application/vnd.jupyter.widget-state+json": {
        "5bce53e1612540e19d41c09642a9512f": {
          "model_module": "@jupyter-widgets/controls",
          "model_name": "HBoxModel",
          "state": {
            "_view_name": "HBoxView",
            "_dom_classes": [],
            "_model_name": "HBoxModel",
            "_view_module": "@jupyter-widgets/controls",
            "_model_module_version": "1.5.0",
            "_view_count": null,
            "_view_module_version": "1.5.0",
            "box_style": "",
            "layout": "IPY_MODEL_d9d6515f586241f68cbcb59041d207c8",
            "_model_module": "@jupyter-widgets/controls",
            "children": [
              "IPY_MODEL_b95a0291b3614a50af023050d43d7f71",
              "IPY_MODEL_fd4b142d9aba49ac8a0efb92fab8cf07"
            ]
          }
        },
        "d9d6515f586241f68cbcb59041d207c8": {
          "model_module": "@jupyter-widgets/base",
          "model_name": "LayoutModel",
          "state": {
            "_view_name": "LayoutView",
            "grid_template_rows": null,
            "right": null,
            "justify_content": null,
            "_view_module": "@jupyter-widgets/base",
            "overflow": null,
            "_model_module_version": "1.2.0",
            "_view_count": null,
            "flex_flow": null,
            "width": null,
            "min_width": null,
            "border": null,
            "align_items": null,
            "bottom": null,
            "_model_module": "@jupyter-widgets/base",
            "top": null,
            "grid_column": null,
            "overflow_y": null,
            "overflow_x": null,
            "grid_auto_flow": null,
            "grid_area": null,
            "grid_template_columns": null,
            "flex": null,
            "_model_name": "LayoutModel",
            "justify_items": null,
            "grid_row": null,
            "max_height": null,
            "align_content": null,
            "visibility": null,
            "align_self": null,
            "height": null,
            "min_height": null,
            "padding": null,
            "grid_auto_rows": null,
            "grid_gap": null,
            "max_width": null,
            "order": null,
            "_view_module_version": "1.2.0",
            "grid_template_areas": null,
            "object_position": null,
            "object_fit": null,
            "grid_auto_columns": null,
            "margin": null,
            "display": null,
            "left": null
          }
        },
        "b95a0291b3614a50af023050d43d7f71": {
          "model_module": "@jupyter-widgets/controls",
          "model_name": "FloatProgressModel",
          "state": {
            "_view_name": "ProgressView",
            "style": "IPY_MODEL_ccbef2c30170436cb833a29148382e28",
            "_dom_classes": [],
            "description": "100%",
            "_model_name": "FloatProgressModel",
            "bar_style": "success",
            "max": 50,
            "_view_module": "@jupyter-widgets/controls",
            "_model_module_version": "1.5.0",
            "value": 50,
            "_view_count": null,
            "_view_module_version": "1.5.0",
            "orientation": "horizontal",
            "min": 0,
            "description_tooltip": null,
            "_model_module": "@jupyter-widgets/controls",
            "layout": "IPY_MODEL_1ab13cca0ea947aabe7b7cafdd2cb929"
          }
        },
        "fd4b142d9aba49ac8a0efb92fab8cf07": {
          "model_module": "@jupyter-widgets/controls",
          "model_name": "HTMLModel",
          "state": {
            "_view_name": "HTMLView",
            "style": "IPY_MODEL_a4fb4661468743bbb76cdbb3cb380a2f",
            "_dom_classes": [],
            "description": "",
            "_model_name": "HTMLModel",
            "placeholder": "​",
            "_view_module": "@jupyter-widgets/controls",
            "_model_module_version": "1.5.0",
            "value": " 50/50 [00:10&lt;00:00,  4.80it/s]",
            "_view_count": null,
            "_view_module_version": "1.5.0",
            "description_tooltip": null,
            "_model_module": "@jupyter-widgets/controls",
            "layout": "IPY_MODEL_a2adb4abf54a4d0d9c7870469a10da7c"
          }
        },
        "ccbef2c30170436cb833a29148382e28": {
          "model_module": "@jupyter-widgets/controls",
          "model_name": "ProgressStyleModel",
          "state": {
            "_view_name": "StyleView",
            "_model_name": "ProgressStyleModel",
            "description_width": "initial",
            "_view_module": "@jupyter-widgets/base",
            "_model_module_version": "1.5.0",
            "_view_count": null,
            "_view_module_version": "1.2.0",
            "bar_color": null,
            "_model_module": "@jupyter-widgets/controls"
          }
        },
        "1ab13cca0ea947aabe7b7cafdd2cb929": {
          "model_module": "@jupyter-widgets/base",
          "model_name": "LayoutModel",
          "state": {
            "_view_name": "LayoutView",
            "grid_template_rows": null,
            "right": null,
            "justify_content": null,
            "_view_module": "@jupyter-widgets/base",
            "overflow": null,
            "_model_module_version": "1.2.0",
            "_view_count": null,
            "flex_flow": null,
            "width": null,
            "min_width": null,
            "border": null,
            "align_items": null,
            "bottom": null,
            "_model_module": "@jupyter-widgets/base",
            "top": null,
            "grid_column": null,
            "overflow_y": null,
            "overflow_x": null,
            "grid_auto_flow": null,
            "grid_area": null,
            "grid_template_columns": null,
            "flex": null,
            "_model_name": "LayoutModel",
            "justify_items": null,
            "grid_row": null,
            "max_height": null,
            "align_content": null,
            "visibility": null,
            "align_self": null,
            "height": null,
            "min_height": null,
            "padding": null,
            "grid_auto_rows": null,
            "grid_gap": null,
            "max_width": null,
            "order": null,
            "_view_module_version": "1.2.0",
            "grid_template_areas": null,
            "object_position": null,
            "object_fit": null,
            "grid_auto_columns": null,
            "margin": null,
            "display": null,
            "left": null
          }
        },
        "a4fb4661468743bbb76cdbb3cb380a2f": {
          "model_module": "@jupyter-widgets/controls",
          "model_name": "DescriptionStyleModel",
          "state": {
            "_view_name": "StyleView",
            "_model_name": "DescriptionStyleModel",
            "description_width": "",
            "_view_module": "@jupyter-widgets/base",
            "_model_module_version": "1.5.0",
            "_view_count": null,
            "_view_module_version": "1.2.0",
            "_model_module": "@jupyter-widgets/controls"
          }
        },
        "a2adb4abf54a4d0d9c7870469a10da7c": {
          "model_module": "@jupyter-widgets/base",
          "model_name": "LayoutModel",
          "state": {
            "_view_name": "LayoutView",
            "grid_template_rows": null,
            "right": null,
            "justify_content": null,
            "_view_module": "@jupyter-widgets/base",
            "overflow": null,
            "_model_module_version": "1.2.0",
            "_view_count": null,
            "flex_flow": null,
            "width": null,
            "min_width": null,
            "border": null,
            "align_items": null,
            "bottom": null,
            "_model_module": "@jupyter-widgets/base",
            "top": null,
            "grid_column": null,
            "overflow_y": null,
            "overflow_x": null,
            "grid_auto_flow": null,
            "grid_area": null,
            "grid_template_columns": null,
            "flex": null,
            "_model_name": "LayoutModel",
            "justify_items": null,
            "grid_row": null,
            "max_height": null,
            "align_content": null,
            "visibility": null,
            "align_self": null,
            "height": null,
            "min_height": null,
            "padding": null,
            "grid_auto_rows": null,
            "grid_gap": null,
            "max_width": null,
            "order": null,
            "_view_module_version": "1.2.0",
            "grid_template_areas": null,
            "object_position": null,
            "object_fit": null,
            "grid_auto_columns": null,
            "margin": null,
            "display": null,
            "left": null
          }
        },
        "c27ecc85b10147a8bf41b78a1e995802": {
          "model_module": "@jupyter-widgets/controls",
          "model_name": "HBoxModel",
          "state": {
            "_view_name": "HBoxView",
            "_dom_classes": [],
            "_model_name": "HBoxModel",
            "_view_module": "@jupyter-widgets/controls",
            "_model_module_version": "1.5.0",
            "_view_count": null,
            "_view_module_version": "1.5.0",
            "box_style": "",
            "layout": "IPY_MODEL_8cd143d8a62e4b2381364aeee93020ae",
            "_model_module": "@jupyter-widgets/controls",
            "children": [
              "IPY_MODEL_777b579ef4144c3ba31c64f2e0d0f243",
              "IPY_MODEL_9c1765709a144cc79635743e833a4c16"
            ]
          }
        },
        "8cd143d8a62e4b2381364aeee93020ae": {
          "model_module": "@jupyter-widgets/base",
          "model_name": "LayoutModel",
          "state": {
            "_view_name": "LayoutView",
            "grid_template_rows": null,
            "right": null,
            "justify_content": null,
            "_view_module": "@jupyter-widgets/base",
            "overflow": null,
            "_model_module_version": "1.2.0",
            "_view_count": null,
            "flex_flow": null,
            "width": null,
            "min_width": null,
            "border": null,
            "align_items": null,
            "bottom": null,
            "_model_module": "@jupyter-widgets/base",
            "top": null,
            "grid_column": null,
            "overflow_y": null,
            "overflow_x": null,
            "grid_auto_flow": null,
            "grid_area": null,
            "grid_template_columns": null,
            "flex": null,
            "_model_name": "LayoutModel",
            "justify_items": null,
            "grid_row": null,
            "max_height": null,
            "align_content": null,
            "visibility": null,
            "align_self": null,
            "height": null,
            "min_height": null,
            "padding": null,
            "grid_auto_rows": null,
            "grid_gap": null,
            "max_width": null,
            "order": null,
            "_view_module_version": "1.2.0",
            "grid_template_areas": null,
            "object_position": null,
            "object_fit": null,
            "grid_auto_columns": null,
            "margin": null,
            "display": null,
            "left": null
          }
        },
        "777b579ef4144c3ba31c64f2e0d0f243": {
          "model_module": "@jupyter-widgets/controls",
          "model_name": "FloatProgressModel",
          "state": {
            "_view_name": "ProgressView",
            "style": "IPY_MODEL_5d6d2c8101ac453bb7f645772be66086",
            "_dom_classes": [],
            "description": "100%",
            "_model_name": "FloatProgressModel",
            "bar_style": "success",
            "max": 201,
            "_view_module": "@jupyter-widgets/controls",
            "_model_module_version": "1.5.0",
            "value": 201,
            "_view_count": null,
            "_view_module_version": "1.5.0",
            "orientation": "horizontal",
            "min": 0,
            "description_tooltip": null,
            "_model_module": "@jupyter-widgets/controls",
            "layout": "IPY_MODEL_3c51d41b442343e0a58d2e5caf7c61c0"
          }
        },
        "9c1765709a144cc79635743e833a4c16": {
          "model_module": "@jupyter-widgets/controls",
          "model_name": "HTMLModel",
          "state": {
            "_view_name": "HTMLView",
            "style": "IPY_MODEL_e8206494e2254967905a7c9e15164e4a",
            "_dom_classes": [],
            "description": "",
            "_model_name": "HTMLModel",
            "placeholder": "​",
            "_view_module": "@jupyter-widgets/controls",
            "_model_module_version": "1.5.0",
            "value": " 201/201 [00:00&lt;00:00, 239.01it/s]",
            "_view_count": null,
            "_view_module_version": "1.5.0",
            "description_tooltip": null,
            "_model_module": "@jupyter-widgets/controls",
            "layout": "IPY_MODEL_fa0e53038cba437497ad3fa49f3cfc26"
          }
        },
        "5d6d2c8101ac453bb7f645772be66086": {
          "model_module": "@jupyter-widgets/controls",
          "model_name": "ProgressStyleModel",
          "state": {
            "_view_name": "StyleView",
            "_model_name": "ProgressStyleModel",
            "description_width": "initial",
            "_view_module": "@jupyter-widgets/base",
            "_model_module_version": "1.5.0",
            "_view_count": null,
            "_view_module_version": "1.2.0",
            "bar_color": null,
            "_model_module": "@jupyter-widgets/controls"
          }
        },
        "3c51d41b442343e0a58d2e5caf7c61c0": {
          "model_module": "@jupyter-widgets/base",
          "model_name": "LayoutModel",
          "state": {
            "_view_name": "LayoutView",
            "grid_template_rows": null,
            "right": null,
            "justify_content": null,
            "_view_module": "@jupyter-widgets/base",
            "overflow": null,
            "_model_module_version": "1.2.0",
            "_view_count": null,
            "flex_flow": null,
            "width": null,
            "min_width": null,
            "border": null,
            "align_items": null,
            "bottom": null,
            "_model_module": "@jupyter-widgets/base",
            "top": null,
            "grid_column": null,
            "overflow_y": null,
            "overflow_x": null,
            "grid_auto_flow": null,
            "grid_area": null,
            "grid_template_columns": null,
            "flex": null,
            "_model_name": "LayoutModel",
            "justify_items": null,
            "grid_row": null,
            "max_height": null,
            "align_content": null,
            "visibility": null,
            "align_self": null,
            "height": null,
            "min_height": null,
            "padding": null,
            "grid_auto_rows": null,
            "grid_gap": null,
            "max_width": null,
            "order": null,
            "_view_module_version": "1.2.0",
            "grid_template_areas": null,
            "object_position": null,
            "object_fit": null,
            "grid_auto_columns": null,
            "margin": null,
            "display": null,
            "left": null
          }
        },
        "e8206494e2254967905a7c9e15164e4a": {
          "model_module": "@jupyter-widgets/controls",
          "model_name": "DescriptionStyleModel",
          "state": {
            "_view_name": "StyleView",
            "_model_name": "DescriptionStyleModel",
            "description_width": "",
            "_view_module": "@jupyter-widgets/base",
            "_model_module_version": "1.5.0",
            "_view_count": null,
            "_view_module_version": "1.2.0",
            "_model_module": "@jupyter-widgets/controls"
          }
        },
        "fa0e53038cba437497ad3fa49f3cfc26": {
          "model_module": "@jupyter-widgets/base",
          "model_name": "LayoutModel",
          "state": {
            "_view_name": "LayoutView",
            "grid_template_rows": null,
            "right": null,
            "justify_content": null,
            "_view_module": "@jupyter-widgets/base",
            "overflow": null,
            "_model_module_version": "1.2.0",
            "_view_count": null,
            "flex_flow": null,
            "width": null,
            "min_width": null,
            "border": null,
            "align_items": null,
            "bottom": null,
            "_model_module": "@jupyter-widgets/base",
            "top": null,
            "grid_column": null,
            "overflow_y": null,
            "overflow_x": null,
            "grid_auto_flow": null,
            "grid_area": null,
            "grid_template_columns": null,
            "flex": null,
            "_model_name": "LayoutModel",
            "justify_items": null,
            "grid_row": null,
            "max_height": null,
            "align_content": null,
            "visibility": null,
            "align_self": null,
            "height": null,
            "min_height": null,
            "padding": null,
            "grid_auto_rows": null,
            "grid_gap": null,
            "max_width": null,
            "order": null,
            "_view_module_version": "1.2.0",
            "grid_template_areas": null,
            "object_position": null,
            "object_fit": null,
            "grid_auto_columns": null,
            "margin": null,
            "display": null,
            "left": null
          }
        }
      }
    }
  },
  "cells": [
    {
      "cell_type": "code",
      "metadata": {
        "id": "4fmCLtPnqhj3",
        "colab_type": "code",
        "colab": {
          "base_uri": "https://localhost:8080/",
          "height": 253
        },
        "outputId": "59e26583-6c5e-4712-e9f4-65de32795eaf"
      },
      "source": [
        "!pip install implicit"
      ],
      "execution_count": 1,
      "outputs": [
        {
          "output_type": "stream",
          "text": [
            "Collecting implicit\n",
            "\u001b[?25l  Downloading https://files.pythonhosted.org/packages/5a/d8/6b4f1374ffa2647b72ac76960c71b984c6f3238090359fb419d03827d87a/implicit-0.4.2.tar.gz (1.1MB)\n",
            "\r\u001b[K     |▎                               | 10kB 13.0MB/s eta 0:00:01\r\u001b[K     |▋                               | 20kB 1.6MB/s eta 0:00:01\r\u001b[K     |▉                               | 30kB 2.1MB/s eta 0:00:01\r\u001b[K     |█▏                              | 40kB 2.4MB/s eta 0:00:01\r\u001b[K     |█▌                              | 51kB 1.9MB/s eta 0:00:01\r\u001b[K     |█▊                              | 61kB 2.1MB/s eta 0:00:01\r\u001b[K     |██                              | 71kB 2.4MB/s eta 0:00:01\r\u001b[K     |██▍                             | 81kB 2.5MB/s eta 0:00:01\r\u001b[K     |██▋                             | 92kB 2.8MB/s eta 0:00:01\r\u001b[K     |███                             | 102kB 2.6MB/s eta 0:00:01\r\u001b[K     |███▎                            | 112kB 2.6MB/s eta 0:00:01\r\u001b[K     |███▌                            | 122kB 2.6MB/s eta 0:00:01\r\u001b[K     |███▉                            | 133kB 2.6MB/s eta 0:00:01\r\u001b[K     |████▏                           | 143kB 2.6MB/s eta 0:00:01\r\u001b[K     |████▍                           | 153kB 2.6MB/s eta 0:00:01\r\u001b[K     |████▊                           | 163kB 2.6MB/s eta 0:00:01\r\u001b[K     |█████                           | 174kB 2.6MB/s eta 0:00:01\r\u001b[K     |█████▎                          | 184kB 2.6MB/s eta 0:00:01\r\u001b[K     |█████▋                          | 194kB 2.6MB/s eta 0:00:01\r\u001b[K     |█████▉                          | 204kB 2.6MB/s eta 0:00:01\r\u001b[K     |██████▏                         | 215kB 2.6MB/s eta 0:00:01\r\u001b[K     |██████▌                         | 225kB 2.6MB/s eta 0:00:01\r\u001b[K     |██████▊                         | 235kB 2.6MB/s eta 0:00:01\r\u001b[K     |███████                         | 245kB 2.6MB/s eta 0:00:01\r\u001b[K     |███████▍                        | 256kB 2.6MB/s eta 0:00:01\r\u001b[K     |███████▋                        | 266kB 2.6MB/s eta 0:00:01\r\u001b[K     |████████                        | 276kB 2.6MB/s eta 0:00:01\r\u001b[K     |████████▎                       | 286kB 2.6MB/s eta 0:00:01\r\u001b[K     |████████▌                       | 296kB 2.6MB/s eta 0:00:01\r\u001b[K     |████████▉                       | 307kB 2.6MB/s eta 0:00:01\r\u001b[K     |█████████                       | 317kB 2.6MB/s eta 0:00:01\r\u001b[K     |█████████▍                      | 327kB 2.6MB/s eta 0:00:01\r\u001b[K     |█████████▊                      | 337kB 2.6MB/s eta 0:00:01\r\u001b[K     |██████████                      | 348kB 2.6MB/s eta 0:00:01\r\u001b[K     |██████████▎                     | 358kB 2.6MB/s eta 0:00:01\r\u001b[K     |██████████▋                     | 368kB 2.6MB/s eta 0:00:01\r\u001b[K     |██████████▉                     | 378kB 2.6MB/s eta 0:00:01\r\u001b[K     |███████████▏                    | 389kB 2.6MB/s eta 0:00:01\r\u001b[K     |███████████▌                    | 399kB 2.6MB/s eta 0:00:01\r\u001b[K     |███████████▊                    | 409kB 2.6MB/s eta 0:00:01\r\u001b[K     |████████████                    | 419kB 2.6MB/s eta 0:00:01\r\u001b[K     |████████████▍                   | 430kB 2.6MB/s eta 0:00:01\r\u001b[K     |████████████▋                   | 440kB 2.6MB/s eta 0:00:01\r\u001b[K     |█████████████                   | 450kB 2.6MB/s eta 0:00:01\r\u001b[K     |█████████████▏                  | 460kB 2.6MB/s eta 0:00:01\r\u001b[K     |█████████████▌                  | 471kB 2.6MB/s eta 0:00:01\r\u001b[K     |█████████████▉                  | 481kB 2.6MB/s eta 0:00:01\r\u001b[K     |██████████████                  | 491kB 2.6MB/s eta 0:00:01\r\u001b[K     |██████████████▍                 | 501kB 2.6MB/s eta 0:00:01\r\u001b[K     |██████████████▊                 | 512kB 2.6MB/s eta 0:00:01\r\u001b[K     |███████████████                 | 522kB 2.6MB/s eta 0:00:01\r\u001b[K     |███████████████▎                | 532kB 2.6MB/s eta 0:00:01\r\u001b[K     |███████████████▋                | 542kB 2.6MB/s eta 0:00:01\r\u001b[K     |███████████████▉                | 552kB 2.6MB/s eta 0:00:01\r\u001b[K     |████████████████▏               | 563kB 2.6MB/s eta 0:00:01\r\u001b[K     |████████████████▌               | 573kB 2.6MB/s eta 0:00:01\r\u001b[K     |████████████████▊               | 583kB 2.6MB/s eta 0:00:01\r\u001b[K     |█████████████████               | 593kB 2.6MB/s eta 0:00:01\r\u001b[K     |█████████████████▍              | 604kB 2.6MB/s eta 0:00:01\r\u001b[K     |█████████████████▋              | 614kB 2.6MB/s eta 0:00:01\r\u001b[K     |██████████████████              | 624kB 2.6MB/s eta 0:00:01\r\u001b[K     |██████████████████▏             | 634kB 2.6MB/s eta 0:00:01\r\u001b[K     |██████████████████▌             | 645kB 2.6MB/s eta 0:00:01\r\u001b[K     |██████████████████▉             | 655kB 2.6MB/s eta 0:00:01\r\u001b[K     |███████████████████             | 665kB 2.6MB/s eta 0:00:01\r\u001b[K     |███████████████████▍            | 675kB 2.6MB/s eta 0:00:01\r\u001b[K     |███████████████████▊            | 686kB 2.6MB/s eta 0:00:01\r\u001b[K     |████████████████████            | 696kB 2.6MB/s eta 0:00:01\r\u001b[K     |████████████████████▎           | 706kB 2.6MB/s eta 0:00:01\r\u001b[K     |████████████████████▋           | 716kB 2.6MB/s eta 0:00:01\r\u001b[K     |████████████████████▉           | 727kB 2.6MB/s eta 0:00:01\r\u001b[K     |█████████████████████▏          | 737kB 2.6MB/s eta 0:00:01\r\u001b[K     |█████████████████████▌          | 747kB 2.6MB/s eta 0:00:01\r\u001b[K     |█████████████████████▊          | 757kB 2.6MB/s eta 0:00:01\r\u001b[K     |██████████████████████          | 768kB 2.6MB/s eta 0:00:01\r\u001b[K     |██████████████████████▎         | 778kB 2.6MB/s eta 0:00:01\r\u001b[K     |██████████████████████▋         | 788kB 2.6MB/s eta 0:00:01\r\u001b[K     |███████████████████████         | 798kB 2.6MB/s eta 0:00:01\r\u001b[K     |███████████████████████▏        | 808kB 2.6MB/s eta 0:00:01\r\u001b[K     |███████████████████████▌        | 819kB 2.6MB/s eta 0:00:01\r\u001b[K     |███████████████████████▉        | 829kB 2.6MB/s eta 0:00:01\r\u001b[K     |████████████████████████        | 839kB 2.6MB/s eta 0:00:01\r\u001b[K     |████████████████████████▍       | 849kB 2.6MB/s eta 0:00:01\r\u001b[K     |████████████████████████▊       | 860kB 2.6MB/s eta 0:00:01\r\u001b[K     |█████████████████████████       | 870kB 2.6MB/s eta 0:00:01\r\u001b[K     |█████████████████████████▎      | 880kB 2.6MB/s eta 0:00:01\r\u001b[K     |█████████████████████████▋      | 890kB 2.6MB/s eta 0:00:01\r\u001b[K     |█████████████████████████▉      | 901kB 2.6MB/s eta 0:00:01\r\u001b[K     |██████████████████████████▏     | 911kB 2.6MB/s eta 0:00:01\r\u001b[K     |██████████████████████████▍     | 921kB 2.6MB/s eta 0:00:01\r\u001b[K     |██████████████████████████▊     | 931kB 2.6MB/s eta 0:00:01\r\u001b[K     |███████████████████████████     | 942kB 2.6MB/s eta 0:00:01\r\u001b[K     |███████████████████████████▎    | 952kB 2.6MB/s eta 0:00:01\r\u001b[K     |███████████████████████████▋    | 962kB 2.6MB/s eta 0:00:01\r\u001b[K     |████████████████████████████    | 972kB 2.6MB/s eta 0:00:01\r\u001b[K     |████████████████████████████▏   | 983kB 2.6MB/s eta 0:00:01\r\u001b[K     |████████████████████████████▌   | 993kB 2.6MB/s eta 0:00:01\r\u001b[K     |████████████████████████████▉   | 1.0MB 2.6MB/s eta 0:00:01\r\u001b[K     |█████████████████████████████   | 1.0MB 2.6MB/s eta 0:00:01\r\u001b[K     |█████████████████████████████▍  | 1.0MB 2.6MB/s eta 0:00:01\r\u001b[K     |█████████████████████████████▊  | 1.0MB 2.6MB/s eta 0:00:01\r\u001b[K     |██████████████████████████████  | 1.0MB 2.6MB/s eta 0:00:01\r\u001b[K     |██████████████████████████████▎ | 1.1MB 2.6MB/s eta 0:00:01\r\u001b[K     |██████████████████████████████▌ | 1.1MB 2.6MB/s eta 0:00:01\r\u001b[K     |██████████████████████████████▉ | 1.1MB 2.6MB/s eta 0:00:01\r\u001b[K     |███████████████████████████████▏| 1.1MB 2.6MB/s eta 0:00:01\r\u001b[K     |███████████████████████████████▍| 1.1MB 2.6MB/s eta 0:00:01\r\u001b[K     |███████████████████████████████▊| 1.1MB 2.6MB/s eta 0:00:01\r\u001b[K     |████████████████████████████████| 1.1MB 2.6MB/s \n",
            "\u001b[?25hRequirement already satisfied: numpy in /usr/local/lib/python3.6/dist-packages (from implicit) (1.18.5)\n",
            "Requirement already satisfied: scipy>=0.16 in /usr/local/lib/python3.6/dist-packages (from implicit) (1.4.1)\n",
            "Requirement already satisfied: tqdm>=4.27 in /usr/local/lib/python3.6/dist-packages (from implicit) (4.41.1)\n",
            "Building wheels for collected packages: implicit\n",
            "  Building wheel for implicit (setup.py) ... \u001b[?25l\u001b[?25hdone\n",
            "  Created wheel for implicit: filename=implicit-0.4.2-cp36-cp36m-linux_x86_64.whl size=3420347 sha256=d748c0ab872221fb7387cbd7d9a0cc132cda03569a1247a8d6a7ba57f99c5ca8\n",
            "  Stored in directory: /root/.cache/pip/wheels/1b/48/b1/1aebe3acc3afb5589e72d3e7c3ffc3f637dc4721c1a974dff7\n",
            "Successfully built implicit\n",
            "Installing collected packages: implicit\n",
            "Successfully installed implicit-0.4.2\n"
          ],
          "name": "stdout"
        }
      ]
    },
    {
      "cell_type": "code",
      "metadata": {
        "id": "KqgZkthYqiwC",
        "colab_type": "code",
        "colab": {
          "base_uri": "https://localhost:8080/",
          "height": 128
        },
        "outputId": "5c577fb8-ede7-4b77-c6c3-647f27bad3d3"
      },
      "source": [
        "from google.colab import drive\n",
        "drive.mount('/content/drive')"
      ],
      "execution_count": 2,
      "outputs": [
        {
          "output_type": "stream",
          "text": [
            "Go to this URL in a browser: https://accounts.google.com/o/oauth2/auth?client_id=947318989803-6bn6qk8qdgf4n4g3pfee6491hc0brc4i.apps.googleusercontent.com&redirect_uri=urn%3aietf%3awg%3aoauth%3a2.0%3aoob&response_type=code&scope=email%20https%3a%2f%2fwww.googleapis.com%2fauth%2fdocs.test%20https%3a%2f%2fwww.googleapis.com%2fauth%2fdrive%20https%3a%2f%2fwww.googleapis.com%2fauth%2fdrive.photos.readonly%20https%3a%2f%2fwww.googleapis.com%2fauth%2fpeopleapi.readonly\n",
            "\n",
            "Enter your authorization code:\n",
            "··········\n",
            "Mounted at /content/drive\n"
          ],
          "name": "stdout"
        }
      ]
    },
    {
      "cell_type": "code",
      "metadata": {
        "id": "0_I__Vfbqlbm",
        "colab_type": "code",
        "colab": {}
      },
      "source": [
        "import pandas as pd\n",
        "import numpy as np\n",
        "\n",
        "\n",
        "import warnings\n",
        "warnings.filterwarnings(\"ignore\")\n",
        "\n",
        "\n",
        "import os, sys\n",
        "module_path_1 = '/content/drive/My Drive/Recomendation_systems/src'\n",
        "module_path_2 = '/content/drive/My Drive/Recomendation_systems/'\n",
        "if module_path_1 not in sys.path:\n",
        "    sys.path.append(module_path_1)\n",
        "if module_path_2 not in sys.path:\n",
        "    sys.path.append(module_path_2)\n",
        "\n",
        "# Написанные нами функции\n",
        "\n",
        "from src.utils import prefilter_items\n",
        "from src.recommenders import MainRecommender\n",
        "from src.calc_precision_take_n_popular import *\n"
      ],
      "execution_count": 3,
      "outputs": []
    },
    {
      "cell_type": "code",
      "metadata": {
        "id": "qubIgMtXqn5o",
        "colab_type": "code",
        "colab": {}
      },
      "source": [
        "data = pd.read_csv('/content/drive/My Drive/Recomendation_systems/Data/retail_train.csv')\n",
        "item_features = pd.read_csv('/content/drive/My Drive/Recomendation_systems/Data/product.csv')\n",
        "user_features = pd.read_csv('/content/drive/My Drive/Recomendation_systems/Data/hh_demographic.csv')\n",
        "public = pd.read_csv('/content/drive/My Drive/Recomendation_systems/Data/retail_test1.csv')\n",
        "\n",
        "# column processing\n",
        "item_features.columns = [col.lower() for col in item_features.columns]\n",
        "user_features.columns = [col.lower() for col in user_features.columns]\n",
        "\n",
        "item_features.rename(columns={'product_id': 'item_id'}, inplace=True)\n",
        "user_features.rename(columns={'household_key': 'user_id'}, inplace=True)"
      ],
      "execution_count": 4,
      "outputs": []
    },
    {
      "cell_type": "code",
      "metadata": {
        "id": "tUe28_gdtiIp",
        "colab_type": "code",
        "colab": {
          "base_uri": "https://localhost:8080/",
          "height": 35
        },
        "outputId": "ac0e0afb-e323-4dcb-e068-2b421110c40b"
      },
      "source": [
        "differense_users = np.setdiff1d(public['user_id'], data['user_id']).tolist()\n",
        "differense_users"
      ],
      "execution_count": 5,
      "outputs": [
        {
          "output_type": "execute_result",
          "data": {
            "text/plain": [
              "[2325]"
            ]
          },
          "metadata": {
            "tags": []
          },
          "execution_count": 5
        }
      ]
    },
    {
      "cell_type": "code",
      "metadata": {
        "id": "sldZgJBMuFq9",
        "colab_type": "code",
        "colab": {}
      },
      "source": [
        "public = public[~public['user_id'].isin(differense_users)]"
      ],
      "execution_count": 6,
      "outputs": []
    },
    {
      "cell_type": "code",
      "metadata": {
        "id": "P6YFh2-5sHnp",
        "colab_type": "code",
        "colab": {
          "base_uri": "https://localhost:8080/",
          "height": 172,
          "referenced_widgets": [
            "5bce53e1612540e19d41c09642a9512f",
            "d9d6515f586241f68cbcb59041d207c8",
            "b95a0291b3614a50af023050d43d7f71",
            "fd4b142d9aba49ac8a0efb92fab8cf07",
            "ccbef2c30170436cb833a29148382e28",
            "1ab13cca0ea947aabe7b7cafdd2cb929",
            "a4fb4661468743bbb76cdbb3cb380a2f",
            "a2adb4abf54a4d0d9c7870469a10da7c",
            "c27ecc85b10147a8bf41b78a1e995802",
            "8cd143d8a62e4b2381364aeee93020ae",
            "777b579ef4144c3ba31c64f2e0d0f243",
            "9c1765709a144cc79635743e833a4c16",
            "5d6d2c8101ac453bb7f645772be66086",
            "3c51d41b442343e0a58d2e5caf7c61c0",
            "e8206494e2254967905a7c9e15164e4a",
            "fa0e53038cba437497ad3fa49f3cfc26"
          ]
        },
        "outputId": "cb63e8d9-a549-415b-9646-ed06931550d3"
      },
      "source": [
        "%%time\n",
        "precision, recs = calc_precision_take_n_popular(data, data, item_features, take_n_popular=200)"
      ],
      "execution_count": 7,
      "outputs": [
        {
          "output_type": "stream",
          "text": [
            "WARNING:root:OpenBLAS detected. Its highly recommend to set the environment variable 'export OPENBLAS_NUM_THREADS=1' to disable its internal multithreading\n"
          ],
          "name": "stderr"
        },
        {
          "output_type": "display_data",
          "data": {
            "application/vnd.jupyter.widget-view+json": {
              "model_id": "5bce53e1612540e19d41c09642a9512f",
              "version_minor": 0,
              "version_major": 2
            },
            "text/plain": [
              "HBox(children=(FloatProgress(value=0.0, max=50.0), HTML(value='')))"
            ]
          },
          "metadata": {
            "tags": []
          }
        },
        {
          "output_type": "stream",
          "text": [
            "\n"
          ],
          "name": "stdout"
        },
        {
          "output_type": "display_data",
          "data": {
            "application/vnd.jupyter.widget-view+json": {
              "model_id": "c27ecc85b10147a8bf41b78a1e995802",
              "version_minor": 0,
              "version_major": 2
            },
            "text/plain": [
              "HBox(children=(FloatProgress(value=0.0, max=201.0), HTML(value='')))"
            ]
          },
          "metadata": {
            "tags": []
          }
        },
        {
          "output_type": "stream",
          "text": [
            "\n",
            "CPU times: user 15.2 s, sys: 7.4 s, total: 22.6 s\n",
            "Wall time: 14.7 s\n"
          ],
          "name": "stdout"
        }
      ]
    },
    {
      "cell_type": "code",
      "metadata": {
        "id": "hDXjwkiSukWe",
        "colab_type": "code",
        "colab": {
          "base_uri": "https://localhost:8080/",
          "height": 35
        },
        "outputId": "135ce6e1-59d0-4f9f-9c45-13a76b772be9"
      },
      "source": [
        "precision"
      ],
      "execution_count": 8,
      "outputs": [
        {
          "output_type": "execute_result",
          "data": {
            "text/plain": [
              "{'own_recommendations': 0.9788715486194479}"
            ]
          },
          "metadata": {
            "tags": []
          },
          "execution_count": 8
        }
      ]
    },
    {
      "cell_type": "code",
      "metadata": {
        "id": "DfHhSqWUsbNB",
        "colab_type": "code",
        "colab": {}
      },
      "source": [
        "recs[['user_id', 'own_recommendations']].to_csv('/content/drive/My Drive/Recomendation_systems/recs.csv')"
      ],
      "execution_count": 9,
      "outputs": []
    }
  ]
}