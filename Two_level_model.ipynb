{
  "nbformat": 4,
  "nbformat_minor": 0,
  "metadata": {
    "kernelspec": {
      "display_name": "Python 3",
      "language": "python",
      "name": "python3"
    },
    "language_info": {
      "codemirror_mode": {
        "name": "ipython",
        "version": 3
      },
      "file_extension": ".py",
      "mimetype": "text/x-python",
      "name": "python",
      "nbconvert_exporter": "python",
      "pygments_lexer": "ipython3",
      "version": "3.7.3"
    },
    "colab": {
      "name": "Two_level_model.ipynb",
      "provenance": [],
      "collapsed_sections": [],
      "include_colab_link": true
    },
    "widgets": {
      "application/vnd.jupyter.widget-state+json": {
        "2c06e408aa434f2aa917efa53931bbb8": {
          "model_module": "@jupyter-widgets/controls",
          "model_name": "HBoxModel",
          "state": {
            "_view_name": "HBoxView",
            "_dom_classes": [],
            "_model_name": "HBoxModel",
            "_view_module": "@jupyter-widgets/controls",
            "_model_module_version": "1.5.0",
            "_view_count": null,
            "_view_module_version": "1.5.0",
            "box_style": "",
            "layout": "IPY_MODEL_bbf4ef19d35345539cdc150726ed744e",
            "_model_module": "@jupyter-widgets/controls",
            "children": [
              "IPY_MODEL_e4826ffd5e664aacb2789f20c888d133",
              "IPY_MODEL_a6473c778c6347248e810357ffdc3deb"
            ]
          }
        },
        "bbf4ef19d35345539cdc150726ed744e": {
          "model_module": "@jupyter-widgets/base",
          "model_name": "LayoutModel",
          "state": {
            "_view_name": "LayoutView",
            "grid_template_rows": null,
            "right": null,
            "justify_content": null,
            "_view_module": "@jupyter-widgets/base",
            "overflow": null,
            "_model_module_version": "1.2.0",
            "_view_count": null,
            "flex_flow": null,
            "width": null,
            "min_width": null,
            "border": null,
            "align_items": null,
            "bottom": null,
            "_model_module": "@jupyter-widgets/base",
            "top": null,
            "grid_column": null,
            "overflow_y": null,
            "overflow_x": null,
            "grid_auto_flow": null,
            "grid_area": null,
            "grid_template_columns": null,
            "flex": null,
            "_model_name": "LayoutModel",
            "justify_items": null,
            "grid_row": null,
            "max_height": null,
            "align_content": null,
            "visibility": null,
            "align_self": null,
            "height": null,
            "min_height": null,
            "padding": null,
            "grid_auto_rows": null,
            "grid_gap": null,
            "max_width": null,
            "order": null,
            "_view_module_version": "1.2.0",
            "grid_template_areas": null,
            "object_position": null,
            "object_fit": null,
            "grid_auto_columns": null,
            "margin": null,
            "display": null,
            "left": null
          }
        },
        "e4826ffd5e664aacb2789f20c888d133": {
          "model_module": "@jupyter-widgets/controls",
          "model_name": "FloatProgressModel",
          "state": {
            "_view_name": "ProgressView",
            "style": "IPY_MODEL_4ec99bf7b15445f3b403004cdb6eb1f3",
            "_dom_classes": [],
            "description": "100%",
            "_model_name": "FloatProgressModel",
            "bar_style": "success",
            "max": 15,
            "_view_module": "@jupyter-widgets/controls",
            "_model_module_version": "1.5.0",
            "value": 15,
            "_view_count": null,
            "_view_module_version": "1.5.0",
            "orientation": "horizontal",
            "min": 0,
            "description_tooltip": null,
            "_model_module": "@jupyter-widgets/controls",
            "layout": "IPY_MODEL_6b3b8ca0a9f548739f80e53c7eb962d4"
          }
        },
        "a6473c778c6347248e810357ffdc3deb": {
          "model_module": "@jupyter-widgets/controls",
          "model_name": "HTMLModel",
          "state": {
            "_view_name": "HTMLView",
            "style": "IPY_MODEL_61f22a08749f420b8cadf7c075691be7",
            "_dom_classes": [],
            "description": "",
            "_model_name": "HTMLModel",
            "placeholder": "​",
            "_view_module": "@jupyter-widgets/controls",
            "_model_module_version": "1.5.0",
            "value": " 15/15 [00:10&lt;00:00,  1.37it/s]",
            "_view_count": null,
            "_view_module_version": "1.5.0",
            "description_tooltip": null,
            "_model_module": "@jupyter-widgets/controls",
            "layout": "IPY_MODEL_ebc29b67111242d89f2bd548fb20b32e"
          }
        },
        "4ec99bf7b15445f3b403004cdb6eb1f3": {
          "model_module": "@jupyter-widgets/controls",
          "model_name": "ProgressStyleModel",
          "state": {
            "_view_name": "StyleView",
            "_model_name": "ProgressStyleModel",
            "description_width": "initial",
            "_view_module": "@jupyter-widgets/base",
            "_model_module_version": "1.5.0",
            "_view_count": null,
            "_view_module_version": "1.2.0",
            "bar_color": null,
            "_model_module": "@jupyter-widgets/controls"
          }
        },
        "6b3b8ca0a9f548739f80e53c7eb962d4": {
          "model_module": "@jupyter-widgets/base",
          "model_name": "LayoutModel",
          "state": {
            "_view_name": "LayoutView",
            "grid_template_rows": null,
            "right": null,
            "justify_content": null,
            "_view_module": "@jupyter-widgets/base",
            "overflow": null,
            "_model_module_version": "1.2.0",
            "_view_count": null,
            "flex_flow": null,
            "width": null,
            "min_width": null,
            "border": null,
            "align_items": null,
            "bottom": null,
            "_model_module": "@jupyter-widgets/base",
            "top": null,
            "grid_column": null,
            "overflow_y": null,
            "overflow_x": null,
            "grid_auto_flow": null,
            "grid_area": null,
            "grid_template_columns": null,
            "flex": null,
            "_model_name": "LayoutModel",
            "justify_items": null,
            "grid_row": null,
            "max_height": null,
            "align_content": null,
            "visibility": null,
            "align_self": null,
            "height": null,
            "min_height": null,
            "padding": null,
            "grid_auto_rows": null,
            "grid_gap": null,
            "max_width": null,
            "order": null,
            "_view_module_version": "1.2.0",
            "grid_template_areas": null,
            "object_position": null,
            "object_fit": null,
            "grid_auto_columns": null,
            "margin": null,
            "display": null,
            "left": null
          }
        },
        "61f22a08749f420b8cadf7c075691be7": {
          "model_module": "@jupyter-widgets/controls",
          "model_name": "DescriptionStyleModel",
          "state": {
            "_view_name": "StyleView",
            "_model_name": "DescriptionStyleModel",
            "description_width": "",
            "_view_module": "@jupyter-widgets/base",
            "_model_module_version": "1.5.0",
            "_view_count": null,
            "_view_module_version": "1.2.0",
            "_model_module": "@jupyter-widgets/controls"
          }
        },
        "ebc29b67111242d89f2bd548fb20b32e": {
          "model_module": "@jupyter-widgets/base",
          "model_name": "LayoutModel",
          "state": {
            "_view_name": "LayoutView",
            "grid_template_rows": null,
            "right": null,
            "justify_content": null,
            "_view_module": "@jupyter-widgets/base",
            "overflow": null,
            "_model_module_version": "1.2.0",
            "_view_count": null,
            "flex_flow": null,
            "width": null,
            "min_width": null,
            "border": null,
            "align_items": null,
            "bottom": null,
            "_model_module": "@jupyter-widgets/base",
            "top": null,
            "grid_column": null,
            "overflow_y": null,
            "overflow_x": null,
            "grid_auto_flow": null,
            "grid_area": null,
            "grid_template_columns": null,
            "flex": null,
            "_model_name": "LayoutModel",
            "justify_items": null,
            "grid_row": null,
            "max_height": null,
            "align_content": null,
            "visibility": null,
            "align_self": null,
            "height": null,
            "min_height": null,
            "padding": null,
            "grid_auto_rows": null,
            "grid_gap": null,
            "max_width": null,
            "order": null,
            "_view_module_version": "1.2.0",
            "grid_template_areas": null,
            "object_position": null,
            "object_fit": null,
            "grid_auto_columns": null,
            "margin": null,
            "display": null,
            "left": null
          }
        },
        "e1deded5f19346cd8fafa6a3a6fc3601": {
          "model_module": "@jupyter-widgets/controls",
          "model_name": "HBoxModel",
          "state": {
            "_view_name": "HBoxView",
            "_dom_classes": [],
            "_model_name": "HBoxModel",
            "_view_module": "@jupyter-widgets/controls",
            "_model_module_version": "1.5.0",
            "_view_count": null,
            "_view_module_version": "1.5.0",
            "box_style": "",
            "layout": "IPY_MODEL_4bfd9042a0684c129708333213b5ede0",
            "_model_module": "@jupyter-widgets/controls",
            "children": [
              "IPY_MODEL_6afda002e36b44a49aa90f1a017f4b03",
              "IPY_MODEL_328c42342e954a0a87619797a6d66f53"
            ]
          }
        },
        "4bfd9042a0684c129708333213b5ede0": {
          "model_module": "@jupyter-widgets/base",
          "model_name": "LayoutModel",
          "state": {
            "_view_name": "LayoutView",
            "grid_template_rows": null,
            "right": null,
            "justify_content": null,
            "_view_module": "@jupyter-widgets/base",
            "overflow": null,
            "_model_module_version": "1.2.0",
            "_view_count": null,
            "flex_flow": null,
            "width": null,
            "min_width": null,
            "border": null,
            "align_items": null,
            "bottom": null,
            "_model_module": "@jupyter-widgets/base",
            "top": null,
            "grid_column": null,
            "overflow_y": null,
            "overflow_x": null,
            "grid_auto_flow": null,
            "grid_area": null,
            "grid_template_columns": null,
            "flex": null,
            "_model_name": "LayoutModel",
            "justify_items": null,
            "grid_row": null,
            "max_height": null,
            "align_content": null,
            "visibility": null,
            "align_self": null,
            "height": null,
            "min_height": null,
            "padding": null,
            "grid_auto_rows": null,
            "grid_gap": null,
            "max_width": null,
            "order": null,
            "_view_module_version": "1.2.0",
            "grid_template_areas": null,
            "object_position": null,
            "object_fit": null,
            "grid_auto_columns": null,
            "margin": null,
            "display": null,
            "left": null
          }
        },
        "6afda002e36b44a49aa90f1a017f4b03": {
          "model_module": "@jupyter-widgets/controls",
          "model_name": "FloatProgressModel",
          "state": {
            "_view_name": "ProgressView",
            "style": "IPY_MODEL_973a2d32bfab493e8aaff15e86edbaa0",
            "_dom_classes": [],
            "description": "100%",
            "_model_name": "FloatProgressModel",
            "bar_style": "success",
            "max": 5001,
            "_view_module": "@jupyter-widgets/controls",
            "_model_module_version": "1.5.0",
            "value": 5001,
            "_view_count": null,
            "_view_module_version": "1.5.0",
            "orientation": "horizontal",
            "min": 0,
            "description_tooltip": null,
            "_model_module": "@jupyter-widgets/controls",
            "layout": "IPY_MODEL_8db92a1d92e447bcb93473b7ff82fdef"
          }
        },
        "328c42342e954a0a87619797a6d66f53": {
          "model_module": "@jupyter-widgets/controls",
          "model_name": "HTMLModel",
          "state": {
            "_view_name": "HTMLView",
            "style": "IPY_MODEL_6927227fb0c14376ae5a30f5dfe05235",
            "_dom_classes": [],
            "description": "",
            "_model_name": "HTMLModel",
            "placeholder": "​",
            "_view_module": "@jupyter-widgets/controls",
            "_model_module_version": "1.5.0",
            "value": " 5001/5001 [00:17&lt;00:00, 279.81it/s]",
            "_view_count": null,
            "_view_module_version": "1.5.0",
            "description_tooltip": null,
            "_model_module": "@jupyter-widgets/controls",
            "layout": "IPY_MODEL_288901299a8d4ae4953cc5e20450c191"
          }
        },
        "973a2d32bfab493e8aaff15e86edbaa0": {
          "model_module": "@jupyter-widgets/controls",
          "model_name": "ProgressStyleModel",
          "state": {
            "_view_name": "StyleView",
            "_model_name": "ProgressStyleModel",
            "description_width": "initial",
            "_view_module": "@jupyter-widgets/base",
            "_model_module_version": "1.5.0",
            "_view_count": null,
            "_view_module_version": "1.2.0",
            "bar_color": null,
            "_model_module": "@jupyter-widgets/controls"
          }
        },
        "8db92a1d92e447bcb93473b7ff82fdef": {
          "model_module": "@jupyter-widgets/base",
          "model_name": "LayoutModel",
          "state": {
            "_view_name": "LayoutView",
            "grid_template_rows": null,
            "right": null,
            "justify_content": null,
            "_view_module": "@jupyter-widgets/base",
            "overflow": null,
            "_model_module_version": "1.2.0",
            "_view_count": null,
            "flex_flow": null,
            "width": null,
            "min_width": null,
            "border": null,
            "align_items": null,
            "bottom": null,
            "_model_module": "@jupyter-widgets/base",
            "top": null,
            "grid_column": null,
            "overflow_y": null,
            "overflow_x": null,
            "grid_auto_flow": null,
            "grid_area": null,
            "grid_template_columns": null,
            "flex": null,
            "_model_name": "LayoutModel",
            "justify_items": null,
            "grid_row": null,
            "max_height": null,
            "align_content": null,
            "visibility": null,
            "align_self": null,
            "height": null,
            "min_height": null,
            "padding": null,
            "grid_auto_rows": null,
            "grid_gap": null,
            "max_width": null,
            "order": null,
            "_view_module_version": "1.2.0",
            "grid_template_areas": null,
            "object_position": null,
            "object_fit": null,
            "grid_auto_columns": null,
            "margin": null,
            "display": null,
            "left": null
          }
        },
        "6927227fb0c14376ae5a30f5dfe05235": {
          "model_module": "@jupyter-widgets/controls",
          "model_name": "DescriptionStyleModel",
          "state": {
            "_view_name": "StyleView",
            "_model_name": "DescriptionStyleModel",
            "description_width": "",
            "_view_module": "@jupyter-widgets/base",
            "_model_module_version": "1.5.0",
            "_view_count": null,
            "_view_module_version": "1.2.0",
            "_model_module": "@jupyter-widgets/controls"
          }
        },
        "288901299a8d4ae4953cc5e20450c191": {
          "model_module": "@jupyter-widgets/base",
          "model_name": "LayoutModel",
          "state": {
            "_view_name": "LayoutView",
            "grid_template_rows": null,
            "right": null,
            "justify_content": null,
            "_view_module": "@jupyter-widgets/base",
            "overflow": null,
            "_model_module_version": "1.2.0",
            "_view_count": null,
            "flex_flow": null,
            "width": null,
            "min_width": null,
            "border": null,
            "align_items": null,
            "bottom": null,
            "_model_module": "@jupyter-widgets/base",
            "top": null,
            "grid_column": null,
            "overflow_y": null,
            "overflow_x": null,
            "grid_auto_flow": null,
            "grid_area": null,
            "grid_template_columns": null,
            "flex": null,
            "_model_name": "LayoutModel",
            "justify_items": null,
            "grid_row": null,
            "max_height": null,
            "align_content": null,
            "visibility": null,
            "align_self": null,
            "height": null,
            "min_height": null,
            "padding": null,
            "grid_auto_rows": null,
            "grid_gap": null,
            "max_width": null,
            "order": null,
            "_view_module_version": "1.2.0",
            "grid_template_areas": null,
            "object_position": null,
            "object_fit": null,
            "grid_auto_columns": null,
            "margin": null,
            "display": null,
            "left": null
          }
        }
      }
    }
  },
  "cells": [
    {
      "cell_type": "markdown",
      "metadata": {
        "id": "view-in-github",
        "colab_type": "text"
      },
      "source": [
        "<a href=\"https://colab.research.google.com/github/ssv273/Recom_systems/blob/master/Two_level_model.ipynb\" target=\"_parent\"><img src=\"https://colab.research.google.com/assets/colab-badge.svg\" alt=\"Open In Colab\"/></a>"
      ]
    },
    {
      "cell_type": "code",
      "metadata": {
        "id": "TST3tAb6CG60",
        "colab_type": "code",
        "colab": {
          "base_uri": "https://localhost:8080/",
          "height": 90
        },
        "outputId": "353a9399-e321-4212-999a-cbd08cd059b4"
      },
      "source": [
        "!pip install implicit"
      ],
      "execution_count": 1,
      "outputs": [
        {
          "output_type": "stream",
          "text": [
            "Requirement already satisfied: implicit in /usr/local/lib/python3.6/dist-packages (0.4.2)\n",
            "Requirement already satisfied: numpy in /usr/local/lib/python3.6/dist-packages (from implicit) (1.18.5)\n",
            "Requirement already satisfied: scipy>=0.16 in /usr/local/lib/python3.6/dist-packages (from implicit) (1.4.1)\n",
            "Requirement already satisfied: tqdm>=4.27 in /usr/local/lib/python3.6/dist-packages (from implicit) (4.41.1)\n"
          ],
          "name": "stdout"
        }
      ]
    },
    {
      "cell_type": "code",
      "metadata": {
        "id": "hzKdmknOCK7a",
        "colab_type": "code",
        "colab": {
          "base_uri": "https://localhost:8080/",
          "height": 35
        },
        "outputId": "8ad96364-03e2-401b-a65f-b563790d1188"
      },
      "source": [
        "from google.colab import drive\n",
        "drive.mount('/content/drive')"
      ],
      "execution_count": 2,
      "outputs": [
        {
          "output_type": "stream",
          "text": [
            "Drive already mounted at /content/drive; to attempt to forcibly remount, call drive.mount(\"/content/drive\", force_remount=True).\n"
          ],
          "name": "stdout"
        }
      ]
    },
    {
      "cell_type": "code",
      "metadata": {
        "id": "pwkpa2yfBk92",
        "colab_type": "code",
        "colab": {}
      },
      "source": [
        "import pandas as pd\n",
        "import numpy as np\n",
        "import matplotlib.pyplot as plt\n",
        "%matplotlib inline\n",
        "\n",
        "# Для работы с матрицами\n",
        "from scipy.sparse import csr_matrix\n",
        "\n",
        "# Матричная факторизация\n",
        "from implicit import als\n",
        "\n",
        "# Модель второго уровня\n",
        "from lightgbm import LGBMClassifier, plot_importance\n",
        "\n",
        "import warnings\n",
        "warnings.filterwarnings(\"ignore\")\n",
        "\n",
        "import os, sys\n",
        "module_path_1 = '/content/drive/My Drive/Recomendation_systems/src'\n",
        "module_path_2 = '/content/drive/My Drive/Recomendation_systems/'\n",
        "if module_path_1 not in sys.path:\n",
        "    sys.path.append(module_path_1)\n",
        "if module_path_2 not in sys.path:\n",
        "    sys.path.append(module_path_2)\n",
        "\n",
        "# Написанные нами функции\n",
        "from src.metrics import precision_at_k, recall_at_k\n",
        "from src.utils import prefilter_items\n",
        "from src.recommenders import MainRecommender"
      ],
      "execution_count": 41,
      "outputs": []
    },
    {
      "cell_type": "code",
      "metadata": {
        "id": "SRZRVwpkBk-B",
        "colab_type": "code",
        "colab": {
          "base_uri": "https://localhost:8080/",
          "height": 112
        },
        "outputId": "bb0830f6-7019-4574-aed2-70424dd2c688"
      },
      "source": [
        "data = pd.read_csv('/content/drive/My Drive/Recomendation_systems/Data/retail_train.csv')\n",
        "item_features = pd.read_csv('/content/drive/My Drive/Recomendation_systems/Data/product.csv')\n",
        "user_features = pd.read_csv('/content/drive/My Drive/Recomendation_systems/Data/hh_demographic.csv')\n",
        "\n",
        "# column processing\n",
        "item_features.columns = [col.lower() for col in item_features.columns]\n",
        "user_features.columns = [col.lower() for col in user_features.columns]\n",
        "\n",
        "item_features.rename(columns={'product_id': 'item_id'}, inplace=True)\n",
        "user_features.rename(columns={'household_key': 'user_id'}, inplace=True)\n",
        "\n",
        "\n",
        "# Важна схема обучения и валидации!\n",
        "# -- давние покупки -- | -- 6 недель -- | -- 3 недель -- \n",
        "# подобрать размер 2-ого датасета (6 недель) --> learning curve (зависимость метрики recall@k от размера датасета)\n",
        "val_lvl_1_size_weeks = 6\n",
        "val_lvl_2_size_weeks = 3\n",
        "\n",
        "data_train_lvl_1 = data[data['week_no'] < data['week_no'].max() - (val_lvl_1_size_weeks + val_lvl_2_size_weeks)]\n",
        "data_val_lvl_1 = data[(data['week_no'] >= data['week_no'].max() - (val_lvl_1_size_weeks + val_lvl_2_size_weeks)) &\n",
        "                      (data['week_no'] < data['week_no'].max() - (val_lvl_2_size_weeks))]\n",
        "\n",
        "data_train_lvl_2 = data_val_lvl_1.copy()  # Для наглядности. Далее мы добавим изменения, и они будут отличаться\n",
        "data_val_lvl_2 = data[data['week_no'] >= data['week_no'].max() - val_lvl_2_size_weeks]\n",
        "\n",
        "data_train_lvl_1.head(2)"
      ],
      "execution_count": 4,
      "outputs": [
        {
          "output_type": "execute_result",
          "data": {
            "text/html": [
              "<div>\n",
              "<style scoped>\n",
              "    .dataframe tbody tr th:only-of-type {\n",
              "        vertical-align: middle;\n",
              "    }\n",
              "\n",
              "    .dataframe tbody tr th {\n",
              "        vertical-align: top;\n",
              "    }\n",
              "\n",
              "    .dataframe thead th {\n",
              "        text-align: right;\n",
              "    }\n",
              "</style>\n",
              "<table border=\"1\" class=\"dataframe\">\n",
              "  <thead>\n",
              "    <tr style=\"text-align: right;\">\n",
              "      <th></th>\n",
              "      <th>user_id</th>\n",
              "      <th>basket_id</th>\n",
              "      <th>day</th>\n",
              "      <th>item_id</th>\n",
              "      <th>quantity</th>\n",
              "      <th>sales_value</th>\n",
              "      <th>store_id</th>\n",
              "      <th>retail_disc</th>\n",
              "      <th>trans_time</th>\n",
              "      <th>week_no</th>\n",
              "      <th>coupon_disc</th>\n",
              "      <th>coupon_match_disc</th>\n",
              "    </tr>\n",
              "  </thead>\n",
              "  <tbody>\n",
              "    <tr>\n",
              "      <th>0</th>\n",
              "      <td>2375</td>\n",
              "      <td>26984851472</td>\n",
              "      <td>1</td>\n",
              "      <td>1004906</td>\n",
              "      <td>1</td>\n",
              "      <td>1.39</td>\n",
              "      <td>364</td>\n",
              "      <td>-0.6</td>\n",
              "      <td>1631</td>\n",
              "      <td>1</td>\n",
              "      <td>0.0</td>\n",
              "      <td>0.0</td>\n",
              "    </tr>\n",
              "    <tr>\n",
              "      <th>1</th>\n",
              "      <td>2375</td>\n",
              "      <td>26984851472</td>\n",
              "      <td>1</td>\n",
              "      <td>1033142</td>\n",
              "      <td>1</td>\n",
              "      <td>0.82</td>\n",
              "      <td>364</td>\n",
              "      <td>0.0</td>\n",
              "      <td>1631</td>\n",
              "      <td>1</td>\n",
              "      <td>0.0</td>\n",
              "      <td>0.0</td>\n",
              "    </tr>\n",
              "  </tbody>\n",
              "</table>\n",
              "</div>"
            ],
            "text/plain": [
              "   user_id    basket_id  day  ...  week_no  coupon_disc  coupon_match_disc\n",
              "0     2375  26984851472    1  ...        1          0.0                0.0\n",
              "1     2375  26984851472    1  ...        1          0.0                0.0\n",
              "\n",
              "[2 rows x 12 columns]"
            ]
          },
          "metadata": {
            "tags": []
          },
          "execution_count": 4
        }
      ]
    },
    {
      "cell_type": "code",
      "metadata": {
        "id": "KEJpGs2lBk-H",
        "colab_type": "code",
        "colab": {
          "base_uri": "https://localhost:8080/",
          "height": 35
        },
        "outputId": "772d6fff-5ed4-45db-9995-08537123e464"
      },
      "source": [
        "n_items_before = data_train_lvl_1['item_id'].nunique()\n",
        "\n",
        "data_train_lvl_1 = prefilter_items(data_train_lvl_1, item_features=item_features, take_n_popular=5000)\n",
        "\n",
        "n_items_after = data_train_lvl_1['item_id'].nunique()\n",
        "print('Decreased # items from {} to {}'.format(n_items_before, n_items_after))"
      ],
      "execution_count": 5,
      "outputs": [
        {
          "output_type": "stream",
          "text": [
            "Decreased # items from 83685 to 5001\n"
          ],
          "name": "stdout"
        }
      ]
    },
    {
      "cell_type": "code",
      "metadata": {
        "id": "AZGvMBXKBk-M",
        "colab_type": "code",
        "colab": {
          "base_uri": "https://localhost:8080/",
          "height": 136,
          "referenced_widgets": [
            "2c06e408aa434f2aa917efa53931bbb8",
            "bbf4ef19d35345539cdc150726ed744e",
            "e4826ffd5e664aacb2789f20c888d133",
            "a6473c778c6347248e810357ffdc3deb",
            "4ec99bf7b15445f3b403004cdb6eb1f3",
            "6b3b8ca0a9f548739f80e53c7eb962d4",
            "61f22a08749f420b8cadf7c075691be7",
            "ebc29b67111242d89f2bd548fb20b32e",
            "e1deded5f19346cd8fafa6a3a6fc3601",
            "4bfd9042a0684c129708333213b5ede0",
            "6afda002e36b44a49aa90f1a017f4b03",
            "328c42342e954a0a87619797a6d66f53",
            "973a2d32bfab493e8aaff15e86edbaa0",
            "8db92a1d92e447bcb93473b7ff82fdef",
            "6927227fb0c14376ae5a30f5dfe05235",
            "288901299a8d4ae4953cc5e20450c191"
          ]
        },
        "outputId": "41d188f2-1ec0-4129-cac2-bc9a80afedab"
      },
      "source": [
        "recommender = MainRecommender(data_train_lvl_1)"
      ],
      "execution_count": 6,
      "outputs": [
        {
          "output_type": "stream",
          "text": [
            "WARNING:root:OpenBLAS detected. Its highly recommend to set the environment variable 'export OPENBLAS_NUM_THREADS=1' to disable its internal multithreading\n"
          ],
          "name": "stderr"
        },
        {
          "output_type": "display_data",
          "data": {
            "application/vnd.jupyter.widget-view+json": {
              "model_id": "2c06e408aa434f2aa917efa53931bbb8",
              "version_minor": 0,
              "version_major": 2
            },
            "text/plain": [
              "HBox(children=(FloatProgress(value=0.0, max=15.0), HTML(value='')))"
            ]
          },
          "metadata": {
            "tags": []
          }
        },
        {
          "output_type": "stream",
          "text": [
            "\n"
          ],
          "name": "stdout"
        },
        {
          "output_type": "display_data",
          "data": {
            "application/vnd.jupyter.widget-view+json": {
              "model_id": "e1deded5f19346cd8fafa6a3a6fc3601",
              "version_minor": 0,
              "version_major": 2
            },
            "text/plain": [
              "HBox(children=(FloatProgress(value=0.0, max=5001.0), HTML(value='')))"
            ]
          },
          "metadata": {
            "tags": []
          }
        },
        {
          "output_type": "stream",
          "text": [
            "\n"
          ],
          "name": "stdout"
        }
      ]
    },
    {
      "cell_type": "code",
      "metadata": {
        "id": "PV3hYXUy5ag3",
        "colab_type": "code",
        "colab": {}
      },
      "source": [
        "def prep(data_train_lvl_2, data_train_lvl_1):\n",
        "  # your_code\n",
        "\n",
        "  users_lvl_2 = pd.DataFrame(data_train_lvl_2['user_id'].unique())\n",
        "  users_lvl_2.columns = ['user_id']\n",
        "\n",
        "  # Пока только warm start\n",
        "  train_users = data_train_lvl_1['user_id'].unique()\n",
        "  users_lvl_2 = users_lvl_2[users_lvl_2['user_id'].isin(train_users)]\n",
        "\n",
        "  users_lvl_2['candidates'] = users_lvl_2['user_id'].apply(lambda x: recommender.get_own_recommendations(x, N=50))\n",
        "\n",
        "  s = users_lvl_2.apply(lambda x: pd.Series(x['candidates']), axis=1).stack().reset_index(level=1, drop=True)\n",
        "  s.name = 'item_id'\n",
        "\n",
        "  users_lvl_2 = users_lvl_2.drop('candidates', axis=1).join(s)\n",
        "  users_lvl_2['flag'] = 1\n",
        "\n",
        "  targets_lvl_2 = data_train_lvl_2[['user_id', 'item_id']].copy()\n",
        "  targets_lvl_2['target'] = 1  # тут только покупки \n",
        "\n",
        "  targets_lvl_2 = users_lvl_2.merge(targets_lvl_2, on=['user_id', 'item_id'], how='left')\n",
        "\n",
        "  targets_lvl_2.drop_duplicates()\n",
        "\n",
        "  targets_lvl_2['target'].fillna(0, inplace= True)\n",
        "  targets_lvl_2.drop('flag', axis=1, inplace=True)\n",
        "\n",
        "  targets_lvl_2 = targets_lvl_2.merge(item_features, on='item_id', how='left')\n",
        "  targets_lvl_2 = targets_lvl_2.merge(user_features, on='user_id', how='left')\n",
        "\n",
        "  return targets_lvl_2"
      ],
      "execution_count": 7,
      "outputs": []
    },
    {
      "cell_type": "code",
      "metadata": {
        "id": "pOvJgZld6JnR",
        "colab_type": "code",
        "colab": {}
      },
      "source": [
        "targets_lvl_2 = prep(data_train_lvl_2, data_train_lvl_1)"
      ],
      "execution_count": 8,
      "outputs": []
    },
    {
      "cell_type": "code",
      "metadata": {
        "id": "GgMl7osOM-pH",
        "colab_type": "code",
        "colab": {
          "base_uri": "https://localhost:8080/",
          "height": 35
        },
        "outputId": "55a30d94-9bbf-4d5e-a1ca-ac5c81e05347"
      },
      "source": [
        "targets_lvl_2.shape, data_train_lvl_2.shape"
      ],
      "execution_count": 9,
      "outputs": [
        {
          "output_type": "execute_result",
          "data": {
            "text/plain": [
              "((115495, 16), (169711, 12))"
            ]
          },
          "metadata": {
            "tags": []
          },
          "execution_count": 9
        }
      ]
    },
    {
      "cell_type": "markdown",
      "metadata": {
        "id": "f6qbgP0JNOiF",
        "colab_type": "text"
      },
      "source": [
        "((115495, 16), (169711, 12))"
      ]
    },
    {
      "cell_type": "code",
      "metadata": {
        "id": "1STAwok06pI-",
        "colab_type": "code",
        "colab": {}
      },
      "source": [
        "targets_val_lvl_2 = prep(data_val_lvl_2, data_train_lvl_1)"
      ],
      "execution_count": 10,
      "outputs": []
    },
    {
      "cell_type": "code",
      "metadata": {
        "id": "dD2Abl0TvNvo",
        "colab_type": "code",
        "colab": {}
      },
      "source": [
        ""
      ],
      "execution_count": null,
      "outputs": []
    },
    {
      "cell_type": "markdown",
      "metadata": {
        "id": "x_fhm2V8724D",
        "colab_type": "text"
      },
      "source": [
        "# Фичи"
      ]
    },
    {
      "cell_type": "code",
      "metadata": {
        "id": "JKRY4td24-_h",
        "colab_type": "code",
        "colab": {}
      },
      "source": [
        "big_data = data.merge(item_features, on='item_id', how='left')\n",
        "big_data = big_data.merge(user_features, on='user_id', how='left')"
      ],
      "execution_count": 11,
      "outputs": []
    },
    {
      "cell_type": "code",
      "metadata": {
        "id": "Opvs8R5y5Ef3",
        "colab_type": "code",
        "colab": {
          "base_uri": "https://localhost:8080/",
          "height": 167
        },
        "outputId": "9ad43987-0689-4b82-9b12-1134adcb9939"
      },
      "source": [
        "big_data.head(2)"
      ],
      "execution_count": 12,
      "outputs": [
        {
          "output_type": "execute_result",
          "data": {
            "text/html": [
              "<div>\n",
              "<style scoped>\n",
              "    .dataframe tbody tr th:only-of-type {\n",
              "        vertical-align: middle;\n",
              "    }\n",
              "\n",
              "    .dataframe tbody tr th {\n",
              "        vertical-align: top;\n",
              "    }\n",
              "\n",
              "    .dataframe thead th {\n",
              "        text-align: right;\n",
              "    }\n",
              "</style>\n",
              "<table border=\"1\" class=\"dataframe\">\n",
              "  <thead>\n",
              "    <tr style=\"text-align: right;\">\n",
              "      <th></th>\n",
              "      <th>user_id</th>\n",
              "      <th>basket_id</th>\n",
              "      <th>day</th>\n",
              "      <th>item_id</th>\n",
              "      <th>quantity</th>\n",
              "      <th>sales_value</th>\n",
              "      <th>store_id</th>\n",
              "      <th>retail_disc</th>\n",
              "      <th>trans_time</th>\n",
              "      <th>week_no</th>\n",
              "      <th>coupon_disc</th>\n",
              "      <th>coupon_match_disc</th>\n",
              "      <th>manufacturer</th>\n",
              "      <th>department</th>\n",
              "      <th>brand</th>\n",
              "      <th>commodity_desc</th>\n",
              "      <th>sub_commodity_desc</th>\n",
              "      <th>curr_size_of_product</th>\n",
              "      <th>age_desc</th>\n",
              "      <th>marital_status_code</th>\n",
              "      <th>income_desc</th>\n",
              "      <th>homeowner_desc</th>\n",
              "      <th>hh_comp_desc</th>\n",
              "      <th>household_size_desc</th>\n",
              "      <th>kid_category_desc</th>\n",
              "    </tr>\n",
              "  </thead>\n",
              "  <tbody>\n",
              "    <tr>\n",
              "      <th>0</th>\n",
              "      <td>2375</td>\n",
              "      <td>26984851472</td>\n",
              "      <td>1</td>\n",
              "      <td>1004906</td>\n",
              "      <td>1</td>\n",
              "      <td>1.39</td>\n",
              "      <td>364</td>\n",
              "      <td>-0.6</td>\n",
              "      <td>1631</td>\n",
              "      <td>1</td>\n",
              "      <td>0.0</td>\n",
              "      <td>0.0</td>\n",
              "      <td>69</td>\n",
              "      <td>PRODUCE</td>\n",
              "      <td>Private</td>\n",
              "      <td>POTATOES</td>\n",
              "      <td>POTATOES RUSSET (BULK&amp;BAG)</td>\n",
              "      <td>5 LB</td>\n",
              "      <td>NaN</td>\n",
              "      <td>NaN</td>\n",
              "      <td>NaN</td>\n",
              "      <td>NaN</td>\n",
              "      <td>NaN</td>\n",
              "      <td>NaN</td>\n",
              "      <td>NaN</td>\n",
              "    </tr>\n",
              "    <tr>\n",
              "      <th>1</th>\n",
              "      <td>2375</td>\n",
              "      <td>26984851472</td>\n",
              "      <td>1</td>\n",
              "      <td>1033142</td>\n",
              "      <td>1</td>\n",
              "      <td>0.82</td>\n",
              "      <td>364</td>\n",
              "      <td>0.0</td>\n",
              "      <td>1631</td>\n",
              "      <td>1</td>\n",
              "      <td>0.0</td>\n",
              "      <td>0.0</td>\n",
              "      <td>2</td>\n",
              "      <td>PRODUCE</td>\n",
              "      <td>National</td>\n",
              "      <td>ONIONS</td>\n",
              "      <td>ONIONS SWEET (BULK&amp;BAG)</td>\n",
              "      <td>40 LB</td>\n",
              "      <td>NaN</td>\n",
              "      <td>NaN</td>\n",
              "      <td>NaN</td>\n",
              "      <td>NaN</td>\n",
              "      <td>NaN</td>\n",
              "      <td>NaN</td>\n",
              "      <td>NaN</td>\n",
              "    </tr>\n",
              "  </tbody>\n",
              "</table>\n",
              "</div>"
            ],
            "text/plain": [
              "   user_id    basket_id  day  ...  hh_comp_desc  household_size_desc  kid_category_desc\n",
              "0     2375  26984851472    1  ...           NaN                  NaN                NaN\n",
              "1     2375  26984851472    1  ...           NaN                  NaN                NaN\n",
              "\n",
              "[2 rows x 25 columns]"
            ]
          },
          "metadata": {
            "tags": []
          },
          "execution_count": 12
        }
      ]
    },
    {
      "cell_type": "markdown",
      "metadata": {
        "id": "VcDNtCx2hiIS",
        "colab_type": "text"
      },
      "source": [
        "### Фичи товара"
      ]
    },
    {
      "cell_type": "markdown",
      "metadata": {
        "id": "R9mQN0vx-smF",
        "colab_type": "text"
      },
      "source": [
        "Кол-во покупок в неделю, среднее кол-во покупок в неделю по каждой категории товара"
      ]
    },
    {
      "cell_type": "code",
      "metadata": {
        "id": "qLxzq4HW8JBz",
        "colab_type": "code",
        "colab": {}
      },
      "source": [
        "def feats_create(big_data, targets_lvl_2):\n",
        "\n",
        "  # Для начала заменим категориальные значения на цифровые\n",
        "  # Возраст\n",
        "  targets_lvl_2['age'] = targets_lvl_2['age_desc'].replace(\n",
        "        {'65+': 70, '45-54': 50, '25-34': 30, '35-44': 40, '19-24':20, '55-64':60})\n",
        "  targets_lvl_2 = targets_lvl_2.drop('age_desc', axis=1)\n",
        "  ##### Доход\n",
        "  targets_lvl_2['income'] = targets_lvl_2['income_desc'].replace(\n",
        "          {'35-49K': 45,\n",
        "        '50-74K': 70,\n",
        "        '25-34K': 30,\n",
        "        '75-99K': 95,\n",
        "        'Under 15K': 15,\n",
        "        '100-124K': 120,\n",
        "        '15-24K': 20,\n",
        "        '125-149K': 145,\n",
        "        '150-174K': 170,\n",
        "        '250K+': 250,\n",
        "        '175-199K': 195,\n",
        "        '200-249K': 245}\n",
        "      )\n",
        "  targets_lvl_2 = targets_lvl_2.drop('income_desc', axis=1)\n",
        "\n",
        "\n",
        "  # Кол-во покупок в неделю, среднее кол-во покупок в неделю по каждой категории товара  \n",
        "  # создаем временный датафрейм, в котором будут значения количеств всех покупок по каждой категории\n",
        "  temp_df = big_data.groupby('department').agg({'quantity' : 'sum'}).reset_index()\n",
        "  # теперь делим количество покупок на количество недель и получаем среднее количество покупок в неделю для каждой категории товара\n",
        "  temp_df['average_num_purchases_per_week'] = temp_df['quantity'] / big_data['week_no'].nunique()\n",
        "  temp_df = temp_df.rename(columns={'quantity' : 'num_purchases_per_week'})\n",
        "  # объединяем обучающий датасет и фичи по категориям \n",
        "  targets_lvl_2 = targets_lvl_2.merge(temp_df, on=['department'], how='left')\n",
        "\n",
        "  # Средний чек\n",
        "  temp_df = big_data[['user_id', 'basket_id', 'quantity', 'sales_value', 'department']]\n",
        "  # считаем сумму по каждому товару\n",
        "  temp_df['amount'] = temp_df['quantity'] * temp_df['sales_value']\n",
        "  # получаем количество заказов пользователя и общую сумму всех заказов\n",
        "  temp_df = temp_df.groupby(['user_id'])['basket_id'].count().reset_index().merge(\n",
        "            temp_df.groupby(['user_id']).agg({'amount' : 'sum'}), on='user_id', how='left')\n",
        "  temp_df['average_check'] = temp_df['amount'] / temp_df['basket_id']\n",
        "  # объединяем обучающий датасет и фичи\n",
        "  targets_lvl_2 = targets_lvl_2.merge(temp_df[['user_id', 'average_check']], on=['user_id'], how='left')\n",
        "\n",
        "  # Кол-во покупок в каждой категории\n",
        "  temp_df = big_data[['user_id', 'quantity', 'department']]\n",
        "  # получаем количество покупок по каждой категории товара\n",
        "  temp_df = temp_df.groupby(['user_id', 'department']).agg({'quantity' : 'sum'}).reset_index()\n",
        "  temp_df = temp_df.rename(columns={'quantity' : 'num_purchases_each_department'})\n",
        "  # объединяем обучающий датасет и фичи\n",
        "  targets_lvl_2 = targets_lvl_2.merge(temp_df, on=['user_id', 'department'], how='left')\n",
        "\n",
        "  # Фичи пары user_id - item_id\n",
        "\n",
        "  #Средняя сумма покупки 1 товара в каждой категории\n",
        "  temp_df= big_data[['user_id', 'item_id', 'department', 'quantity', 'sales_value']]\n",
        "  # Создадим столбец сумма в которой получим сумму по каждому купленному товару\n",
        "  temp_df['summ'] = temp_df['quantity'] * temp_df['sales_value']\n",
        "  # считаем среднюю сумму покупки товара в каждой категории\n",
        "  temp_df_1 = temp_df.groupby(['user_id', 'department']).agg({'summ' : 'mean'})\\\n",
        "              .rename(columns={'summ' : 'mean_summ'})\\\n",
        "              .reset_index()\n",
        "  # Записываем среднюю сумму во временный датафрейм\n",
        "  temp_df = temp_df.merge(temp_df_1, on=['user_id', 'department'], how='left')\n",
        "  # Смотрим на сколько юзер купил меньше или больше товаров в каждой категории чем в среднем по категрии покупали все юзеры\n",
        "  temp_df['price_item_minus_mean_summ'] = temp_df['sales_value'] - temp_df['mean_summ']\n",
        "  # так как дальше не влезает в память выбросим юзеров и товары, которых нет в targets_lvl_2\n",
        "  users_in_targets_lvl_2 = targets_lvl_2['user_id'].unique()\n",
        "  items_in_targets_lvl_2 = targets_lvl_2['item_id'].unique()\n",
        "  temp_df = temp_df[(temp_df['user_id'].isin(users_in_targets_lvl_2)) & (temp_df['item_id'].isin(items_in_targets_lvl_2))]\n",
        "  # объединяем обучающий датасет и фичи\n",
        "  targets_lvl_2 = targets_lvl_2.merge(temp_df, on=['user_id', 'department', 'item_id'], how='left')\n",
        "\n",
        "  # (Кол-во покупок юзером конкретной категории в неделю) - (Среднее кол-во покупок всеми юзерами конкретной категории в неделю)\n",
        "  temp_df_1 = big_data.groupby(['user_id', 'department', 'week_no']).agg({'quantity' : 'mean'})\\\n",
        "                      .reset_index()\\\n",
        "                      .rename(columns={'quantity' : 'sum_quantity_per_week_per_user_per_dept'})\n",
        "  temp_df_2 = big_data.groupby(['department', 'week_no']).agg({'quantity' : 'sum'})\\\n",
        "                      .reset_index()\\\n",
        "                      .rename(columns=({'quantity' : 'mean_quantyity_per_week_per_dept'}))\n",
        "  temp_df = temp_df_1.merge(temp_df_2, on=['department', 'week_no'], how='left')\n",
        "  temp_df['sum_quantity_per_week_per_user_per_dept_minus_mean_quantyity_per_week_per_dept'] = \\\n",
        "            temp_df['sum_quantity_per_week_per_user_per_dept'] - temp_df['mean_quantyity_per_week_per_dept']\n",
        "  temp_df = temp_df[(temp_df['user_id'].isin(targets_lvl_2['user_id'].unique()))]\\\n",
        "         [['user_id', 'department', 'sum_quantity_per_week_per_user_per_dept_minus_mean_quantyity_per_week_per_dept']]\n",
        "  temp_df = temp_df.groupby(['user_id', 'department'])\\\n",
        "            .agg({'sum_quantity_per_week_per_user_per_dept_minus_mean_quantyity_per_week_per_dept' : 'mean'})\\\n",
        "            .reset_index()\n",
        "  # объединяем обучающий датасет и фичи  \n",
        "  targets_lvl_2 = targets_lvl_2.merge(temp_df, on=['user_id', 'department'], how='left')\n",
        "  \n",
        "  return targets_lvl_2"
      ],
      "execution_count": 13,
      "outputs": []
    },
    {
      "cell_type": "code",
      "metadata": {
        "id": "8bJsEmma-FCA",
        "colab_type": "code",
        "colab": {}
      },
      "source": [
        "targets_lvl_2 = feats_create(big_data, targets_lvl_2)"
      ],
      "execution_count": 14,
      "outputs": []
    },
    {
      "cell_type": "code",
      "metadata": {
        "id": "TXzEItFiHwoL",
        "colab_type": "code",
        "colab": {}
      },
      "source": [
        "targets_val_lvl_2 = feats_create(big_data, targets_val_lvl_2)"
      ],
      "execution_count": 15,
      "outputs": []
    },
    {
      "cell_type": "code",
      "metadata": {
        "id": "000DWcfVOQoW",
        "colab_type": "code",
        "colab": {
          "base_uri": "https://localhost:8080/",
          "height": 35
        },
        "outputId": "b678c8f2-568e-4e69-c9af-b4c80736af95"
      },
      "source": [
        "targets_val_lvl_2.shape"
      ],
      "execution_count": 16,
      "outputs": [
        {
          "output_type": "execute_result",
          "data": {
            "text/plain": [
              "(543892, 26)"
            ]
          },
          "metadata": {
            "tags": []
          },
          "execution_count": 16
        }
      ]
    },
    {
      "cell_type": "markdown",
      "metadata": {
        "id": "MNm8rK65ykzI",
        "colab_type": "text"
      },
      "source": [
        "## Модель"
      ]
    },
    {
      "cell_type": "code",
      "metadata": {
        "id": "x9C81z7l0P2k",
        "colab_type": "code",
        "colab": {}
      },
      "source": [
        "X_train = targets_lvl_2.drop('target', axis=1)\n",
        "y_train = targets_lvl_2[['target']]"
      ],
      "execution_count": 17,
      "outputs": []
    },
    {
      "cell_type": "code",
      "metadata": {
        "id": "Feh85jiqIBXJ",
        "colab_type": "code",
        "colab": {}
      },
      "source": [
        "X_test = targets_val_lvl_2.drop('target', axis=1)\n",
        "y_test = targets_val_lvl_2[['target']]"
      ],
      "execution_count": 18,
      "outputs": []
    },
    {
      "cell_type": "code",
      "metadata": {
        "id": "yoZOWvfFipz8",
        "colab_type": "code",
        "colab": {
          "base_uri": "https://localhost:8080/",
          "height": 217
        },
        "outputId": "aacc6203-59f7-44a6-912b-c9f3a2d822c6"
      },
      "source": [
        "cat_feats = X_train.columns[2:-12].tolist()\n",
        "X_train[cat_feats] = X_train[cat_feats].astype('category')\n",
        "\n",
        "cat_feats"
      ],
      "execution_count": 19,
      "outputs": [
        {
          "output_type": "execute_result",
          "data": {
            "text/plain": [
              "['manufacturer',\n",
              " 'department',\n",
              " 'brand',\n",
              " 'commodity_desc',\n",
              " 'sub_commodity_desc',\n",
              " 'curr_size_of_product',\n",
              " 'marital_status_code',\n",
              " 'homeowner_desc',\n",
              " 'hh_comp_desc',\n",
              " 'household_size_desc',\n",
              " 'kid_category_desc']"
            ]
          },
          "metadata": {
            "tags": []
          },
          "execution_count": 19
        }
      ]
    },
    {
      "cell_type": "code",
      "metadata": {
        "id": "Upf4PQ3_IYUl",
        "colab_type": "code",
        "colab": {}
      },
      "source": [
        "X_test[cat_feats] = X_test[cat_feats].astype('category')"
      ],
      "execution_count": 20,
      "outputs": []
    },
    {
      "cell_type": "code",
      "metadata": {
        "id": "mXiiz4djOdH2",
        "colab_type": "code",
        "colab": {
          "base_uri": "https://localhost:8080/",
          "height": 35
        },
        "outputId": "65dcd87d-fe3e-4ff7-cd20-7d1c9a1d18c1"
      },
      "source": [
        "X_test.shape, data_val_lvl_2.shape"
      ],
      "execution_count": 21,
      "outputs": [
        {
          "output_type": "execute_result",
          "data": {
            "text/plain": [
              "((543892, 25), (118314, 12))"
            ]
          },
          "metadata": {
            "tags": []
          },
          "execution_count": 21
        }
      ]
    },
    {
      "cell_type": "code",
      "metadata": {
        "id": "kvPV1UeEkuWU",
        "colab_type": "code",
        "colab": {
          "base_uri": "https://localhost:8080/",
          "height": 35
        },
        "outputId": "5a0a2127-da35-4963-a396-fcca0db1401c"
      },
      "source": [
        "X_train.shape"
      ],
      "execution_count": 22,
      "outputs": [
        {
          "output_type": "execute_result",
          "data": {
            "text/plain": [
              "(676710, 25)"
            ]
          },
          "metadata": {
            "tags": []
          },
          "execution_count": 22
        }
      ]
    },
    {
      "cell_type": "code",
      "metadata": {
        "id": "b_4s2LOG0T0W",
        "colab_type": "code",
        "colab": {
          "base_uri": "https://localhost:8080/",
          "height": 253
        },
        "outputId": "44b356fe-7f59-4747-e54c-6626df8d580c"
      },
      "source": [
        "lgb = LGBMClassifier(objective='binary', max_depth=7, categorical_column=cat_feats)\n",
        "lgb.fit(X_train, y_train)\n",
        "\n"
      ],
      "execution_count": 23,
      "outputs": [
        {
          "output_type": "execute_result",
          "data": {
            "text/plain": [
              "LGBMClassifier(boosting_type='gbdt',\n",
              "               categorical_column=['manufacturer', 'department', 'brand',\n",
              "                                   'commodity_desc', 'sub_commodity_desc',\n",
              "                                   'curr_size_of_product',\n",
              "                                   'marital_status_code', 'homeowner_desc',\n",
              "                                   'hh_comp_desc', 'household_size_desc',\n",
              "                                   'kid_category_desc'],\n",
              "               class_weight=None, colsample_bytree=1.0, importance_type='split',\n",
              "               learning_rate=0.1, max_depth=7, min_child_samples=20,\n",
              "               min_child_weight=0.001, min_split_gain=0.0, n_estimators=100,\n",
              "               n_jobs=-1, num_leaves=31, objective='binary', random_state=None,\n",
              "               reg_alpha=0.0, reg_lambda=0.0, silent=True, subsample=1.0,\n",
              "               subsample_for_bin=200000, subsample_freq=0)"
            ]
          },
          "metadata": {
            "tags": []
          },
          "execution_count": 23
        }
      ]
    },
    {
      "cell_type": "code",
      "metadata": {
        "id": "J3oT7SI_It0x",
        "colab_type": "code",
        "colab": {}
      },
      "source": [
        "test_preds = lgb.predict_proba(X_test)"
      ],
      "execution_count": 24,
      "outputs": []
    },
    {
      "cell_type": "code",
      "metadata": {
        "id": "BSzeimMVJ7s3",
        "colab_type": "code",
        "colab": {}
      },
      "source": [
        "X_test['test_preds'] = test_preds[:, 1]"
      ],
      "execution_count": 26,
      "outputs": []
    },
    {
      "cell_type": "code",
      "metadata": {
        "id": "4vYO9ZLIKBMI",
        "colab_type": "code",
        "colab": {}
      },
      "source": [
        "X_test.sort_values(['user_id', 'test_preds'], ascending=False, inplace=True)"
      ],
      "execution_count": 27,
      "outputs": []
    },
    {
      "cell_type": "code",
      "metadata": {
        "id": "G0Ylx-2uOWQL",
        "colab_type": "code",
        "colab": {
          "base_uri": "https://localhost:8080/",
          "height": 35
        },
        "outputId": "637e7271-1025-47f5-b45e-63bdd2822598"
      },
      "source": [
        "X_test.shape"
      ],
      "execution_count": 28,
      "outputs": [
        {
          "output_type": "execute_result",
          "data": {
            "text/plain": [
              "(543892, 26)"
            ]
          },
          "metadata": {
            "tags": []
          },
          "execution_count": 28
        }
      ]
    },
    {
      "cell_type": "code",
      "metadata": {
        "id": "wQ_jTg4NQECH",
        "colab_type": "code",
        "colab": {}
      },
      "source": [
        "X_test = X_test.drop_duplicates(subset=['user_id', 'item_id'])"
      ],
      "execution_count": 29,
      "outputs": []
    },
    {
      "cell_type": "code",
      "metadata": {
        "id": "bf6eRHz4K5ng",
        "colab_type": "code",
        "colab": {}
      },
      "source": [
        "res_df = X_test.groupby('user_id').head(5)"
      ],
      "execution_count": 30,
      "outputs": []
    },
    {
      "cell_type": "code",
      "metadata": {
        "id": "WDp95FNYKx3F",
        "colab_type": "code",
        "colab": {
          "base_uri": "https://localhost:8080/",
          "height": 167
        },
        "outputId": "aa4fe7a0-a26a-4421-b560-c62d3beb3793"
      },
      "source": [
        "res_df.head(2)"
      ],
      "execution_count": 31,
      "outputs": [
        {
          "output_type": "execute_result",
          "data": {
            "text/html": [
              "<div>\n",
              "<style scoped>\n",
              "    .dataframe tbody tr th:only-of-type {\n",
              "        vertical-align: middle;\n",
              "    }\n",
              "\n",
              "    .dataframe tbody tr th {\n",
              "        vertical-align: top;\n",
              "    }\n",
              "\n",
              "    .dataframe thead th {\n",
              "        text-align: right;\n",
              "    }\n",
              "</style>\n",
              "<table border=\"1\" class=\"dataframe\">\n",
              "  <thead>\n",
              "    <tr style=\"text-align: right;\">\n",
              "      <th></th>\n",
              "      <th>user_id</th>\n",
              "      <th>item_id</th>\n",
              "      <th>manufacturer</th>\n",
              "      <th>department</th>\n",
              "      <th>brand</th>\n",
              "      <th>commodity_desc</th>\n",
              "      <th>sub_commodity_desc</th>\n",
              "      <th>curr_size_of_product</th>\n",
              "      <th>marital_status_code</th>\n",
              "      <th>homeowner_desc</th>\n",
              "      <th>hh_comp_desc</th>\n",
              "      <th>household_size_desc</th>\n",
              "      <th>kid_category_desc</th>\n",
              "      <th>age</th>\n",
              "      <th>income</th>\n",
              "      <th>num_purchases_per_week</th>\n",
              "      <th>average_num_purchases_per_week</th>\n",
              "      <th>average_check</th>\n",
              "      <th>num_purchases_each_department</th>\n",
              "      <th>quantity</th>\n",
              "      <th>sales_value</th>\n",
              "      <th>summ</th>\n",
              "      <th>mean_summ</th>\n",
              "      <th>price_item_minus_mean_summ</th>\n",
              "      <th>sum_quantity_per_week_per_user_per_dept_minus_mean_quantyity_per_week_per_dept</th>\n",
              "      <th>test_preds</th>\n",
              "    </tr>\n",
              "  </thead>\n",
              "  <tbody>\n",
              "    <tr>\n",
              "      <th>85934</th>\n",
              "      <td>2500</td>\n",
              "      <td>869195</td>\n",
              "      <td>866</td>\n",
              "      <td>DRUG GM</td>\n",
              "      <td>National</td>\n",
              "      <td>NEWSPAPER</td>\n",
              "      <td>NEWSPAPER</td>\n",
              "      <td></td>\n",
              "      <td>NaN</td>\n",
              "      <td>NaN</td>\n",
              "      <td>NaN</td>\n",
              "      <td>NaN</td>\n",
              "      <td>NaN</td>\n",
              "      <td>NaN</td>\n",
              "      <td>NaN</td>\n",
              "      <td>326443</td>\n",
              "      <td>3436.242105</td>\n",
              "      <td>9742.817318</td>\n",
              "      <td>424.0</td>\n",
              "      <td>1.0</td>\n",
              "      <td>0.5</td>\n",
              "      <td>0.5</td>\n",
              "      <td>8.152907</td>\n",
              "      <td>-7.652907</td>\n",
              "      <td>-3767.648939</td>\n",
              "      <td>0.828341</td>\n",
              "    </tr>\n",
              "    <tr>\n",
              "      <th>86016</th>\n",
              "      <td>2500</td>\n",
              "      <td>1083254</td>\n",
              "      <td>69</td>\n",
              "      <td>GROCERY</td>\n",
              "      <td>Private</td>\n",
              "      <td>WATER - CARBONATED/FLVRD DRINK</td>\n",
              "      <td>SPRING WATER</td>\n",
              "      <td></td>\n",
              "      <td>NaN</td>\n",
              "      <td>NaN</td>\n",
              "      <td>NaN</td>\n",
              "      <td>NaN</td>\n",
              "      <td>NaN</td>\n",
              "      <td>NaN</td>\n",
              "      <td>NaN</td>\n",
              "      <td>2025562</td>\n",
              "      <td>21321.705263</td>\n",
              "      <td>9742.817318</td>\n",
              "      <td>1262.0</td>\n",
              "      <td>6.0</td>\n",
              "      <td>3.0</td>\n",
              "      <td>18.0</td>\n",
              "      <td>5.004078</td>\n",
              "      <td>-2.004078</td>\n",
              "      <td>-23428.558960</td>\n",
              "      <td>0.825893</td>\n",
              "    </tr>\n",
              "  </tbody>\n",
              "</table>\n",
              "</div>"
            ],
            "text/plain": [
              "       user_id  ...  test_preds\n",
              "85934     2500  ...    0.828341\n",
              "86016     2500  ...    0.825893\n",
              "\n",
              "[2 rows x 26 columns]"
            ]
          },
          "metadata": {
            "tags": []
          },
          "execution_count": 31
        }
      ]
    },
    {
      "cell_type": "code",
      "metadata": {
        "id": "gevTApOxipaq",
        "colab_type": "code",
        "colab": {}
      },
      "source": [
        "recomendations = res_df.groupby('user_id')['item_id'].unique().reset_index()"
      ],
      "execution_count": 32,
      "outputs": []
    },
    {
      "cell_type": "code",
      "metadata": {
        "id": "rY8xcKw1UJDg",
        "colab_type": "code",
        "colab": {}
      },
      "source": [
        "result_lvl_2 = data_val_lvl_2.groupby('user_id')['item_id'].unique().reset_index()\n",
        "result_lvl_2.columns=['user_id', 'actual']"
      ],
      "execution_count": 33,
      "outputs": []
    },
    {
      "cell_type": "code",
      "metadata": {
        "id": "TRoTOWZ21apT",
        "colab_type": "code",
        "colab": {}
      },
      "source": [
        "result_lvl_2 = result_lvl_2.merge(recomendations)"
      ],
      "execution_count": 34,
      "outputs": []
    },
    {
      "cell_type": "code",
      "metadata": {
        "id": "HifCHPshUY_R",
        "colab_type": "code",
        "colab": {}
      },
      "source": [
        "result_lvl_2.rename(columns={'item_id' : 'recomendations'}, inplace=True)"
      ],
      "execution_count": 35,
      "outputs": []
    },
    {
      "cell_type": "code",
      "metadata": {
        "id": "Mv65EhUIUuLp",
        "colab_type": "code",
        "colab": {
          "base_uri": "https://localhost:8080/",
          "height": 35
        },
        "outputId": "81fb9663-3c15-4918-c810-94c71557aa5c"
      },
      "source": [
        "result_lvl_2.apply(lambda row: precision_at_k(row['recomendations'], row['actual']), axis=1).mean()"
      ],
      "execution_count": 36,
      "outputs": [
        {
          "output_type": "execute_result",
          "data": {
            "text/plain": [
              "0.22567368936795462"
            ]
          },
          "metadata": {
            "tags": []
          },
          "execution_count": 36
        }
      ]
    },
    {
      "cell_type": "code",
      "metadata": {
        "id": "Grf_1cC7UZqw",
        "colab_type": "code",
        "colab": {
          "base_uri": "https://localhost:8080/",
          "height": 35
        },
        "outputId": "a100dd70-9053-45b5-da29-2a8c2c921de4"
      },
      "source": [
        "0.22694757471827318"
      ],
      "execution_count": 37,
      "outputs": [
        {
          "output_type": "execute_result",
          "data": {
            "text/plain": [
              "0.22694757471827318"
            ]
          },
          "metadata": {
            "tags": []
          },
          "execution_count": 37
        }
      ]
    },
    {
      "cell_type": "code",
      "metadata": {
        "id": "Lh0EJZlAUZm3",
        "colab_type": "code",
        "colab": {}
      },
      "source": [
        "# 0.22567368936795462 - добавил возраст"
      ],
      "execution_count": 38,
      "outputs": []
    },
    {
      "cell_type": "code",
      "metadata": {
        "id": "fHf6jAvatLjg",
        "colab_type": "code",
        "colab": {}
      },
      "source": [
        "from L"
      ],
      "execution_count": null,
      "outputs": []
    },
    {
      "cell_type": "code",
      "metadata": {
        "id": "1A4Mrvq1szqK",
        "colab_type": "code",
        "colab": {
          "base_uri": "https://localhost:8080/",
          "height": 911
        },
        "outputId": "d935d5e4-62a0-41ef-9db8-59f1a99f8145"
      },
      "source": [
        "plot_importance(lgb, figsize=(15, 15), importance_type='gain')"
      ],
      "execution_count": 44,
      "outputs": [
        {
          "output_type": "execute_result",
          "data": {
            "text/plain": [
              "<matplotlib.axes._subplots.AxesSubplot at 0x7f5c40dcafd0>"
            ]
          },
          "metadata": {
            "tags": []
          },
          "execution_count": 44
        },
        {
          "output_type": "display_data",
          "data": {
            "image/png": "[encoded data removed]",
            "text/plain": [
              "<Figure size 1080x1080 with 1 Axes>"
            ]
          },
          "metadata": {
            "tags": [],
            "needs_background": "light"
          }
        }
      ]
    }
  ]
}